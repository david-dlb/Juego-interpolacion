{
 "cells": [
  {
   "cell_type": "code",
   "execution_count": 3,
   "metadata": {},
   "outputs": [
    {
     "name": "stdout",
     "output_type": "stream",
     "text": [
      " * Serving Flask app '__main__'\n",
      " * Debug mode: off\n"
     ]
    },
    {
     "name": "stderr",
     "output_type": "stream",
     "text": [
      "WARNING: This is a development server. Do not use it in a production deployment. Use a production WSGI server instead.\n",
      " * Running on http://127.0.0.1:5000\n",
      "Press CTRL+C to quit\n",
      "127.0.0.1 - - [19/May/2023 00:26:36] \"GET / HTTP/1.1\" 304 -\n",
      "127.0.0.1 - - [19/May/2023 00:26:36] \"GET /static/canvas.css HTTP/1.1\" 304 -\n",
      "127.0.0.1 - - [19/May/2023 00:26:36] \"GET /static/images.jpeg HTTP/1.1\" 304 -\n",
      "127.0.0.1 - - [19/May/2023 00:26:36] \"GET /static/game.js HTTP/1.1\" 304 -\n",
      "127.0.0.1 - - [19/May/2023 00:26:36] \"GET /static/3.mp3 HTTP/1.1\" 206 -\n",
      "127.0.0.1 - - [19/May/2023 00:26:36] \"POST /move HTTP/1.1\" 200 -\n",
      "127.0.0.1 - - [19/May/2023 00:26:36] \"GET /static/pelota.png HTTP/1.1\" 304 -\n",
      "127.0.0.1 - - [19/May/2023 00:26:36] \"GET /static/guantes.png HTTP/1.1\" 304 -\n",
      "127.0.0.1 - - [19/May/2023 00:26:36] \"GET /static/porteria.png HTTP/1.1\" 304 -\n",
      "127.0.0.1 - - [19/May/2023 00:26:38] \"GET /static/3.mp3 HTTP/1.1\" 206 -\n",
      "127.0.0.1 - - [19/May/2023 00:26:38] \"GET /static/pelota.ico HTTP/1.1\" 304 -\n",
      "127.0.0.1 - - [19/May/2023 00:26:38] \"GET /static/3.mp3 HTTP/1.1\" 206 -\n",
      "127.0.0.1 - - [19/May/2023 00:26:39] \"POST /move HTTP/1.1\" 200 -\n",
      "127.0.0.1 - - [19/May/2023 00:26:41] \"POST /move HTTP/1.1\" 200 -\n",
      "127.0.0.1 - - [19/May/2023 00:26:43] \"POST /move HTTP/1.1\" 200 -\n",
      "127.0.0.1 - - [19/May/2023 00:26:45] \"POST /move HTTP/1.1\" 200 -\n",
      "127.0.0.1 - - [19/May/2023 00:26:48] \"POST /move HTTP/1.1\" 200 -\n",
      "127.0.0.1 - - [19/May/2023 00:26:50] \"POST /move HTTP/1.1\" 200 -\n",
      "127.0.0.1 - - [19/May/2023 00:26:52] \"POST /move HTTP/1.1\" 200 -\n",
      "127.0.0.1 - - [19/May/2023 00:26:55] \"POST /move HTTP/1.1\" 200 -\n",
      "127.0.0.1 - - [19/May/2023 00:26:57] \"POST /move HTTP/1.1\" 200 -\n",
      "127.0.0.1 - - [19/May/2023 00:27:00] \"POST /move HTTP/1.1\" 200 -\n",
      "127.0.0.1 - - [19/May/2023 00:27:02] \"POST /move HTTP/1.1\" 200 -\n",
      "127.0.0.1 - - [19/May/2023 00:27:04] \"POST /move HTTP/1.1\" 200 -\n",
      "127.0.0.1 - - [19/May/2023 00:27:06] \"POST /move HTTP/1.1\" 200 -\n",
      "127.0.0.1 - - [19/May/2023 00:27:10] \"POST /move HTTP/1.1\" 200 -\n",
      "127.0.0.1 - - [19/May/2023 00:27:12] \"POST /move HTTP/1.1\" 200 -\n",
      "127.0.0.1 - - [19/May/2023 00:27:14] \"POST /move HTTP/1.1\" 200 -\n",
      "127.0.0.1 - - [19/May/2023 00:27:16] \"POST /move HTTP/1.1\" 200 -\n"
     ]
    }
   ],
   "source": [
    "from flask import Flask, request, jsonify\n",
    "from flask_restful import Resource, Api\n",
    "from flask import send_file\n",
    "from scipy import interpolate \n",
    "import json\n",
    "import random\n",
    "import pandas as pd\n",
    "import numpy  \n",
    "\n",
    "app = Flask(__name__)\n",
    "api = Api(app)\n",
    "\n",
    "class Move(Resource):\n",
    "    def get(self): \n",
    "        return \"ddddd\"\n",
    "    def post(self):\n",
    "        # genera una opcion aleatoria \n",
    "        x = [2, 10, 15,19,50,170, 230, 380, 420, 500, 600, 700, 780]\n",
    "        y = [10, 12,36,36,60]\n",
    "        for i in range(len(x) - len(y)):\n",
    "            y.append(int(random.randrange(50, 680)))\n",
    "        sprep = interpolate.splrep(x,y,s=0)\n",
    " \n",
    "        # genera todo el grafico\n",
    "        xint1 = []\n",
    "        for i in range(700):\n",
    "            xint1.append(i)\n",
    "        yint1 = interpolate.splev(xint1, sprep, der=0)\n",
    "         \n",
    "        # devuelve como un json\n",
    "        df = pd.DataFrame(yint1, columns=[\"2\"])\n",
    "        return df.to_json()\n",
    "    \n",
    "class Home(Resource):\n",
    "    def get(self):\n",
    "         \n",
    "        return send_file('/home/david/David/Programación/CC/Ciber 2do/Semestre I/Matematica Numerica/juego interpolacion futbol' + '/canvas.html')\n",
    "    \n",
    "\n",
    "api.add_resource(Move, '/move')  # Route_2\n",
    "\n",
    "api.add_resource(Home, '/')  # Route_2\n",
    "if __name__ == '__main__':\n",
    "     app.run(port='5000')"
   ]
  }
 ],
 "metadata": {
  "kernelspec": {
   "display_name": "base",
   "language": "python",
   "name": "python3"
  },
  "language_info": {
   "codemirror_mode": {
    "name": "ipython",
    "version": 3
   },
   "file_extension": ".py",
   "mimetype": "text/x-python",
   "name": "python",
   "nbconvert_exporter": "python",
   "pygments_lexer": "ipython3",
   "version": "3.8.8"
  },
  "orig_nbformat": 4,
  "vscode": {
   "interpreter": {
    "hash": "ab3c9598846bb01a90bc4fb3fb70919349b21f3aac0df0f83a83137ce8a42a56"
   }
  }
 },
 "nbformat": 4,
 "nbformat_minor": 2
}
