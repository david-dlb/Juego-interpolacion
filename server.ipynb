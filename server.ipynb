{
 "cells": [
  {
   "cell_type": "code",
   "execution_count": 8,
   "metadata": {},
   "outputs": [
    {
     "name": "stdout",
     "output_type": "stream",
     "text": [
      " * Serving Flask app '__main__'\n",
      " * Debug mode: off\n"
     ]
    },
    {
     "name": "stderr",
     "output_type": "stream",
     "text": [
      "WARNING: This is a development server. Do not use it in a production deployment. Use a production WSGI server instead.\n",
      " * Running on http://127.0.0.1:5000\n",
      "Press CTRL+C to quit\n",
      "127.0.0.1 - - [16/May/2023 11:35:41] \"GET / HTTP/1.1\" 304 -\n",
      "127.0.0.1 - - [16/May/2023 11:35:41] \"GET /static/canvas.css HTTP/1.1\" 304 -\n",
      "127.0.0.1 - - [16/May/2023 11:35:41] \"GET /static/images.jpeg HTTP/1.1\" 304 -\n",
      "127.0.0.1 - - [16/May/2023 11:35:41] \"GET /static/game.js HTTP/1.1\" 304 -\n",
      "127.0.0.1 - - [16/May/2023 11:35:41] \"POST /move HTTP/1.1\" 200 -\n",
      "127.0.0.1 - - [16/May/2023 11:35:41] \"GET /static/pelota.png HTTP/1.1\" 304 -\n",
      "127.0.0.1 - - [16/May/2023 11:35:41] \"GET /static/guantes.png HTTP/1.1\" 304 -\n",
      "127.0.0.1 - - [16/May/2023 11:35:41] \"GET /static/pelota.ico HTTP/1.1\" 304 -\n",
      "127.0.0.1 - - [16/May/2023 11:35:42] \"GET / HTTP/1.1\" 304 -\n",
      "127.0.0.1 - - [16/May/2023 11:35:42] \"GET /static/game.js HTTP/1.1\" 304 -\n",
      "127.0.0.1 - - [16/May/2023 11:35:42] \"GET /static/canvas.css HTTP/1.1\" 304 -\n",
      "127.0.0.1 - - [16/May/2023 11:35:42] \"GET /static/images.jpeg HTTP/1.1\" 304 -\n",
      "127.0.0.1 - - [16/May/2023 11:35:42] \"GET /static/guantes.png HTTP/1.1\" 304 -\n",
      "127.0.0.1 - - [16/May/2023 11:35:42] \"GET /static/pelota.png HTTP/1.1\" 304 -\n",
      "127.0.0.1 - - [16/May/2023 11:35:42] \"POST /move HTTP/1.1\" 200 -\n",
      "127.0.0.1 - - [16/May/2023 11:35:42] \"GET /static/pelota.ico HTTP/1.1\" 304 -\n",
      "127.0.0.1 - - [16/May/2023 11:35:46] \"POST /move HTTP/1.1\" 200 -\n",
      "127.0.0.1 - - [16/May/2023 11:35:56] \"POST /move HTTP/1.1\" 200 -\n",
      "127.0.0.1 - - [16/May/2023 11:35:56] \"GET / HTTP/1.1\" 304 -\n",
      "127.0.0.1 - - [16/May/2023 11:35:56] \"GET /static/canvas.css HTTP/1.1\" 200 -\n",
      "127.0.0.1 - - [16/May/2023 11:35:56] \"GET /static/game.js HTTP/1.1\" 304 -\n",
      "127.0.0.1 - - [16/May/2023 11:35:56] \"GET /static/images.jpeg HTTP/1.1\" 304 -\n",
      "127.0.0.1 - - [16/May/2023 11:35:56] \"GET /static/cancha.jpg HTTP/1.1\" 304 -\n",
      "127.0.0.1 - - [16/May/2023 11:35:56] \"POST /move HTTP/1.1\" 200 -\n",
      "127.0.0.1 - - [16/May/2023 11:35:56] \"GET /static/pelota.png HTTP/1.1\" 304 -\n",
      "127.0.0.1 - - [16/May/2023 11:35:56] \"GET /static/guantes.png HTTP/1.1\" 304 -\n",
      "127.0.0.1 - - [16/May/2023 11:35:56] \"GET /static/pelota.ico HTTP/1.1\" 304 -\n",
      "127.0.0.1 - - [16/May/2023 11:36:01] \"POST /move HTTP/1.1\" 200 -\n",
      "127.0.0.1 - - [16/May/2023 11:36:03] \"GET / HTTP/1.1\" 200 -\n",
      "127.0.0.1 - - [16/May/2023 11:36:03] \"GET /static/canvas.css HTTP/1.1\" 304 -\n",
      "127.0.0.1 - - [16/May/2023 11:36:03] \"GET /static/images.jpeg HTTP/1.1\" 304 -\n",
      "127.0.0.1 - - [16/May/2023 11:36:03] \"GET /static/game.js HTTP/1.1\" 304 -\n",
      "127.0.0.1 - - [16/May/2023 11:36:03] \"POST /move HTTP/1.1\" 200 -\n",
      "127.0.0.1 - - [16/May/2023 11:36:03] \"GET /static/pelota.png HTTP/1.1\" 304 -\n",
      "127.0.0.1 - - [16/May/2023 11:36:03] \"GET /static/guantes.png HTTP/1.1\" 304 -\n",
      "127.0.0.1 - - [16/May/2023 11:36:03] \"GET /static/pelota.ico HTTP/1.1\" 304 -\n",
      "127.0.0.1 - - [16/May/2023 11:36:04] \"GET / HTTP/1.1\" 304 -\n",
      "127.0.0.1 - - [16/May/2023 11:36:04] \"GET /static/canvas.css HTTP/1.1\" 304 -\n",
      "127.0.0.1 - - [16/May/2023 11:36:04] \"GET /static/game.js HTTP/1.1\" 304 -\n",
      "127.0.0.1 - - [16/May/2023 11:36:04] \"GET /static/images.jpeg HTTP/1.1\" 304 -\n",
      "127.0.0.1 - - [16/May/2023 11:36:04] \"POST /move HTTP/1.1\" 200 -\n",
      "127.0.0.1 - - [16/May/2023 11:36:04] \"GET /static/pelota.png HTTP/1.1\" 304 -\n",
      "127.0.0.1 - - [16/May/2023 11:36:04] \"GET /static/guantes.png HTTP/1.1\" 304 -\n",
      "127.0.0.1 - - [16/May/2023 11:36:04] \"GET /static/pelota.ico HTTP/1.1\" 304 -\n",
      "127.0.0.1 - - [16/May/2023 11:36:04] \"GET / HTTP/1.1\" 304 -\n",
      "127.0.0.1 - - [16/May/2023 11:36:04] \"GET /static/canvas.css HTTP/1.1\" 304 -\n",
      "127.0.0.1 - - [16/May/2023 11:36:04] \"GET /static/images.jpeg HTTP/1.1\" 304 -\n",
      "127.0.0.1 - - [16/May/2023 11:36:04] \"GET /static/game.js HTTP/1.1\" 304 -\n",
      "127.0.0.1 - - [16/May/2023 11:36:04] \"POST /move HTTP/1.1\" 200 -\n",
      "127.0.0.1 - - [16/May/2023 11:36:04] \"GET /static/pelota.png HTTP/1.1\" 304 -\n",
      "127.0.0.1 - - [16/May/2023 11:36:04] \"GET /static/guantes.png HTTP/1.1\" 304 -\n",
      "127.0.0.1 - - [16/May/2023 11:36:04] \"GET /static/pelota.ico HTTP/1.1\" 304 -\n",
      "127.0.0.1 - - [16/May/2023 11:36:05] \"GET / HTTP/1.1\" 304 -\n",
      "127.0.0.1 - - [16/May/2023 11:36:05] \"GET /static/canvas.css HTTP/1.1\" 304 -\n",
      "127.0.0.1 - - [16/May/2023 11:36:05] \"GET /static/game.js HTTP/1.1\" 304 -\n",
      "127.0.0.1 - - [16/May/2023 11:36:05] \"GET /static/images.jpeg HTTP/1.1\" 304 -\n",
      "127.0.0.1 - - [16/May/2023 11:36:05] \"POST /move HTTP/1.1\" 200 -\n",
      "127.0.0.1 - - [16/May/2023 11:36:05] \"GET /static/guantes.png HTTP/1.1\" 304 -\n",
      "127.0.0.1 - - [16/May/2023 11:36:05] \"GET /static/pelota.png HTTP/1.1\" 304 -\n",
      "127.0.0.1 - - [16/May/2023 11:36:05] \"GET /static/pelota.ico HTTP/1.1\" 304 -\n",
      "127.0.0.1 - - [16/May/2023 11:36:10] \"POST /move HTTP/1.1\" 200 -\n",
      "127.0.0.1 - - [16/May/2023 11:36:10] \"GET / HTTP/1.1\" 304 -\n",
      "127.0.0.1 - - [16/May/2023 11:36:10] \"GET /static/canvas.css HTTP/1.1\" 304 -\n",
      "127.0.0.1 - - [16/May/2023 11:36:10] \"GET /static/game.js HTTP/1.1\" 304 -\n",
      "127.0.0.1 - - [16/May/2023 11:36:10] \"GET /static/images.jpeg HTTP/1.1\" 304 -\n",
      "127.0.0.1 - - [16/May/2023 11:36:10] \"POST /move HTTP/1.1\" 200 -\n",
      "127.0.0.1 - - [16/May/2023 11:36:10] \"GET /static/guantes.png HTTP/1.1\" 304 -\n",
      "127.0.0.1 - - [16/May/2023 11:36:10] \"GET /static/pelota.png HTTP/1.1\" 304 -\n",
      "127.0.0.1 - - [16/May/2023 11:36:10] \"GET /static/pelota.ico HTTP/1.1\" 304 -\n",
      "127.0.0.1 - - [16/May/2023 11:37:40] \"POST /move HTTP/1.1\" 200 -\n"
     ]
    }
   ],
   "source": [
    "from flask import Flask, request, jsonify\n",
    "from flask_restful import Resource, Api\n",
    "from flask import send_file\n",
    "from scipy import interpolate \n",
    "import pandas as pd\n",
    "import numpy  \n",
    "\n",
    "app = Flask(__name__)\n",
    "api = Api(app)\n",
    "\n",
    "# opciones de interpolacion usando spline\n",
    "def op1():\n",
    "    x = [2, 3, 6,7,8,9, 200, 380, 470]\n",
    "    y = [5, 8,22,33,43,47, 300, 200, 240]\n",
    "    sprep = interpolate.splrep(x,y,s=0)\n",
    "    return sprep\n",
    "def op2():\n",
    "    x = [2, 3, 6,7,8,9, 100, 380, 470]\n",
    "    y = [5, 8,22,33,43,47, 100, 200, 240]\n",
    "    sprep = interpolate.splrep(x,y,s=0)\n",
    "    return sprep\n",
    "def op3():\n",
    "    x = [2, 3, 6,19,50,90, 200, 380, 420]\n",
    "    y = [5, 8,22,30,10,47, 300, 200, 240]\n",
    "    sprep = interpolate.splrep(x,y,s=0)\n",
    "    return sprep\n",
    "# lista de opciones\n",
    "l = [op1, op2, op3]\n",
    "\n",
    "class Move(Resource):\n",
    "    def get(self): \n",
    "        return \"ddddd\"\n",
    "    def post(self):\n",
    "        # genera una opcion aleatoria\n",
    "        sprep = l[int(random.randrange(0, 3))]()\n",
    " \n",
    "        # genera todo el grafico\n",
    "        xint1 = []\n",
    "        for i in range(400):\n",
    "            xint1.append(i)\n",
    "        yint1 = interpolate.splev(xint1, sprep, der=0)\n",
    "         \n",
    "        # devuelve como un json\n",
    "        df = pd.DataFrame(yint1, columns=[\"2\"])\n",
    "        return df.to_json()\n",
    "    \n",
    "class Home(Resource):\n",
    "    def get(self):\n",
    "         \n",
    "        return send_file( '/home/david/David/Programación/CC/Ciber 2do/Semestre I/Matematica Numerica/juego interpolacion futbol' + '/canvas.html')\n",
    "    \n",
    "\n",
    "api.add_resource(Move, '/move')  # Route_2\n",
    "\n",
    "api.add_resource(Home, '/')  # Route_2\n",
    "if __name__ == '__main__':\n",
    "     app.run(port='5000')"
   ]
  },
  {
   "cell_type": "code",
   "execution_count": null,
   "metadata": {},
   "outputs": [],
   "source": [
    "import numpy"
   ]
  },
  {
   "cell_type": "code",
   "execution_count": null,
   "metadata": {},
   "outputs": [
    {
     "ename": "RuntimeError",
     "evalue": "Working outside of request context.\n\nThis typically means that you attempted to use functionality that needed\nan active HTTP request. Consult the documentation on testing for\ninformation about how to avoid this problem.",
     "output_type": "error",
     "traceback": [
      "\u001b[0;31m---------------------------------------------------------------------------\u001b[0m",
      "\u001b[0;31mRuntimeError\u001b[0m                              Traceback (most recent call last)",
      "\u001b[0;32m<ipython-input-15-b2fea0a48de5>\u001b[0m in \u001b[0;36m<module>\u001b[0;34m\u001b[0m\n\u001b[1;32m      1\u001b[0m \u001b[0mapp\u001b[0m \u001b[0;34m=\u001b[0m \u001b[0mFlask\u001b[0m\u001b[0;34m(\u001b[0m\u001b[0m__name__\u001b[0m\u001b[0;34m)\u001b[0m\u001b[0;34m\u001b[0m\u001b[0;34m\u001b[0m\u001b[0m\n\u001b[1;32m      2\u001b[0m \u001b[0mapi\u001b[0m \u001b[0;34m=\u001b[0m \u001b[0mApi\u001b[0m\u001b[0;34m(\u001b[0m\u001b[0mapp\u001b[0m\u001b[0;34m)\u001b[0m\u001b[0;34m\u001b[0m\u001b[0;34m\u001b[0m\u001b[0m\n\u001b[0;32m----> 3\u001b[0;31m \u001b[0msend_file\u001b[0m\u001b[0;34m(\u001b[0m \u001b[0;34m'/home/david/David/Programación/CC/Ciber 2do/Semestre I/Matematica Numerica/juego interpolacion futbol'\u001b[0m \u001b[0;34m+\u001b[0m \u001b[0;34m'/canvas.html'\u001b[0m\u001b[0;34m)\u001b[0m\u001b[0;34m\u001b[0m\u001b[0;34m\u001b[0m\u001b[0m\n\u001b[0m",
      "\u001b[0;32m~/bin/anaconda3/lib/python3.8/site-packages/flask/helpers.py\u001b[0m in \u001b[0;36msend_file\u001b[0;34m(path_or_file, mimetype, as_attachment, download_name, conditional, etag, last_modified, max_age)\u001b[0m\n\u001b[1;32m    538\u001b[0m         **_prepare_send_file_kwargs(\n\u001b[1;32m    539\u001b[0m             \u001b[0mpath_or_file\u001b[0m\u001b[0;34m=\u001b[0m\u001b[0mpath_or_file\u001b[0m\u001b[0;34m,\u001b[0m\u001b[0;34m\u001b[0m\u001b[0;34m\u001b[0m\u001b[0m\n\u001b[0;32m--> 540\u001b[0;31m             \u001b[0menviron\u001b[0m\u001b[0;34m=\u001b[0m\u001b[0mrequest\u001b[0m\u001b[0;34m.\u001b[0m\u001b[0menviron\u001b[0m\u001b[0;34m,\u001b[0m\u001b[0;34m\u001b[0m\u001b[0;34m\u001b[0m\u001b[0m\n\u001b[0m\u001b[1;32m    541\u001b[0m             \u001b[0mmimetype\u001b[0m\u001b[0;34m=\u001b[0m\u001b[0mmimetype\u001b[0m\u001b[0;34m,\u001b[0m\u001b[0;34m\u001b[0m\u001b[0;34m\u001b[0m\u001b[0m\n\u001b[1;32m    542\u001b[0m             \u001b[0mas_attachment\u001b[0m\u001b[0;34m=\u001b[0m\u001b[0mas_attachment\u001b[0m\u001b[0;34m,\u001b[0m\u001b[0;34m\u001b[0m\u001b[0;34m\u001b[0m\u001b[0m\n",
      "\u001b[0;32m~/bin/anaconda3/lib/python3.8/site-packages/werkzeug/local.py\u001b[0m in \u001b[0;36m__get__\u001b[0;34m(self, instance, owner)\u001b[0m\n\u001b[1;32m    314\u001b[0m \u001b[0;34m\u001b[0m\u001b[0m\n\u001b[1;32m    315\u001b[0m         \u001b[0;32mtry\u001b[0m\u001b[0;34m:\u001b[0m\u001b[0;34m\u001b[0m\u001b[0;34m\u001b[0m\u001b[0m\n\u001b[0;32m--> 316\u001b[0;31m             \u001b[0mobj\u001b[0m \u001b[0;34m=\u001b[0m \u001b[0minstance\u001b[0m\u001b[0;34m.\u001b[0m\u001b[0m_get_current_object\u001b[0m\u001b[0;34m(\u001b[0m\u001b[0;34m)\u001b[0m\u001b[0;34m\u001b[0m\u001b[0;34m\u001b[0m\u001b[0m\n\u001b[0m\u001b[1;32m    317\u001b[0m         \u001b[0;32mexcept\u001b[0m \u001b[0mRuntimeError\u001b[0m\u001b[0;34m:\u001b[0m\u001b[0;34m\u001b[0m\u001b[0;34m\u001b[0m\u001b[0m\n\u001b[1;32m    318\u001b[0m             \u001b[0;32mif\u001b[0m \u001b[0mself\u001b[0m\u001b[0;34m.\u001b[0m\u001b[0mfallback\u001b[0m \u001b[0;32mis\u001b[0m \u001b[0;32mNone\u001b[0m\u001b[0;34m:\u001b[0m\u001b[0;34m\u001b[0m\u001b[0;34m\u001b[0m\u001b[0m\n",
      "\u001b[0;32m~/bin/anaconda3/lib/python3.8/site-packages/werkzeug/local.py\u001b[0m in \u001b[0;36m_get_current_object\u001b[0;34m()\u001b[0m\n\u001b[1;32m    511\u001b[0m                     \u001b[0mobj\u001b[0m \u001b[0;34m=\u001b[0m \u001b[0mlocal\u001b[0m\u001b[0;34m.\u001b[0m\u001b[0mget\u001b[0m\u001b[0;34m(\u001b[0m\u001b[0;34m)\u001b[0m  \u001b[0;31m# type: ignore[union-attr]\u001b[0m\u001b[0;34m\u001b[0m\u001b[0;34m\u001b[0m\u001b[0m\n\u001b[1;32m    512\u001b[0m                 \u001b[0;32mexcept\u001b[0m \u001b[0mLookupError\u001b[0m\u001b[0;34m:\u001b[0m\u001b[0;34m\u001b[0m\u001b[0;34m\u001b[0m\u001b[0m\n\u001b[0;32m--> 513\u001b[0;31m                     \u001b[0;32mraise\u001b[0m \u001b[0mRuntimeError\u001b[0m\u001b[0;34m(\u001b[0m\u001b[0munbound_message\u001b[0m\u001b[0;34m)\u001b[0m \u001b[0;32mfrom\u001b[0m \u001b[0;32mNone\u001b[0m\u001b[0;34m\u001b[0m\u001b[0;34m\u001b[0m\u001b[0m\n\u001b[0m\u001b[1;32m    514\u001b[0m \u001b[0;34m\u001b[0m\u001b[0m\n\u001b[1;32m    515\u001b[0m                 \u001b[0;32mreturn\u001b[0m \u001b[0mget_name\u001b[0m\u001b[0;34m(\u001b[0m\u001b[0mobj\u001b[0m\u001b[0;34m)\u001b[0m\u001b[0;34m\u001b[0m\u001b[0;34m\u001b[0m\u001b[0m\n",
      "\u001b[0;31mRuntimeError\u001b[0m: Working outside of request context.\n\nThis typically means that you attempted to use functionality that needed\nan active HTTP request. Consult the documentation on testing for\ninformation about how to avoid this problem."
     ]
    }
   ],
   "source": [
    "app = Flask(__name__)\n",
    "api = Api(app)\n",
    "send_file( '/home/david/David/Programación/CC/Ciber 2do/Semestre I/Matematica Numerica/juego interpolacion futbol' + '/canvas.html')"
   ]
  }
 ],
 "metadata": {
  "kernelspec": {
   "display_name": "base",
   "language": "python",
   "name": "python3"
  },
  "language_info": {
   "codemirror_mode": {
    "name": "ipython",
    "version": 3
   },
   "file_extension": ".py",
   "mimetype": "text/x-python",
   "name": "python",
   "nbconvert_exporter": "python",
   "pygments_lexer": "ipython3",
   "version": "3.8.8"
  },
  "orig_nbformat": 4,
  "vscode": {
   "interpreter": {
    "hash": "ab3c9598846bb01a90bc4fb3fb70919349b21f3aac0df0f83a83137ce8a42a56"
   }
  }
 },
 "nbformat": 4,
 "nbformat_minor": 2
}
